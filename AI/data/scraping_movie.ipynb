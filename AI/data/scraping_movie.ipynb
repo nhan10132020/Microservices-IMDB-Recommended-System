{
 "cells": [
  {
   "cell_type": "code",
   "execution_count": 17,
   "metadata": {},
   "outputs": [],
   "source": [
    "import requests\n",
    "import csv\n",
    "import pandas as pd"
   ]
  },
  {
   "cell_type": "code",
   "execution_count": 2,
   "metadata": {},
   "outputs": [],
   "source": [
    "def fetch_data(url, params=None):\n",
    "    try:\n",
    "        response = requests.get(url, params=params)\n",
    "        response.raise_for_status()  # Raise an exception for non-2xx status codes\n",
    "        return response\n",
    "    except requests.exceptions.RequestException as e:\n",
    "        print(f\"An error occurred: {e}\")\n",
    "        return None"
   ]
  },
  {
   "cell_type": "code",
   "execution_count": 3,
   "metadata": {},
   "outputs": [],
   "source": [
    "result = []"
   ]
  },
  {
   "cell_type": "code",
   "execution_count": 4,
   "metadata": {},
   "outputs": [],
   "source": [
    "# fetch discover movie\n",
    "url = \"https://api.themoviedb.org/3/discover/movie\" \n",
    "\n",
    "for page in range(1,501):\n",
    "    params = {\"api_key\": \"4e44d9029b1270a757cddc766a1bcb63\", \"language\": \"en-US\",\"page\":page}\n",
    "    response = fetch_data(url, params=params)\n",
    "    if response:\n",
    "        data = response.json()\n",
    "        if len(data[\"results\"]) == 0:\n",
    "            break\n",
    "        result += (data[\"results\"])\n",
    "        \n",
    "    else:\n",
    "        print(\"Failed to fetch data\")\n",
    "    \n",
    "headers = list(result[0].keys())\n",
    "with open(\"movie.csv\", \"a\", newline=\"\") as csvfile:\n",
    "    writer = csv.DictWriter(csvfile, fieldnames=headers)\n",
    "    writer.writeheader()\n",
    "    writer.writerows(result)\n",
    "    \n",
    "result = []"
   ]
  },
  {
   "cell_type": "code",
   "execution_count": 5,
   "metadata": {},
   "outputs": [],
   "source": [
    "# fetch popular, top rated and upcomming movies\n",
    "url = \"https://api.themoviedb.org/3/movie\" \n",
    "movie_type = [\"popular\",\"top_rated\",\"upcoming\"]\n",
    "\n",
    "for type in movie_type:\n",
    "    for page in range(1,501):\n",
    "        # Optional query parameters\n",
    "        params = {\"api_key\": \"4e44d9029b1270a757cddc766a1bcb63\", \"language\": \"en-US\",\"page\":page}\n",
    "        response = fetch_data(url + \"/\" + type, params=params)\n",
    "        if response:\n",
    "            data = response.json()\n",
    "            if len(data[\"results\"]) == 0:\n",
    "                break\n",
    "            result += (data[\"results\"])\n",
    "        else:\n",
    "            print(\"Failed to fetch data\")\n",
    "    headers = list(result[0].keys())\n",
    "    with open(\"movie.csv\", \"a\", newline=\"\") as csvfile:\n",
    "        writer = csv.DictWriter(csvfile, fieldnames=headers)\n",
    "        writer.writerows(result)\n",
    "    result = []"
   ]
  }
 ],
 "metadata": {
  "kernelspec": {
   "display_name": "Python 3",
   "language": "python",
   "name": "python3"
  },
  "language_info": {
   "codemirror_mode": {
    "name": "ipython",
    "version": 3
   },
   "file_extension": ".py",
   "mimetype": "text/x-python",
   "name": "python",
   "nbconvert_exporter": "python",
   "pygments_lexer": "ipython3",
   "version": "3.11.4"
  }
 },
 "nbformat": 4,
 "nbformat_minor": 2
}
